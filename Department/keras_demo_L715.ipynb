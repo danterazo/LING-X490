{
  "nbformat": 4,
  "nbformat_minor": 0,
  "metadata": {
    "colab": {
      "name": "keras-demo-l715.ipynb",
      "provenance": []
    },
    "kernelspec": {
      "name": "python3",
      "display_name": "Python 3"
    }
  },
  "cells": [
    {
      "cell_type": "markdown",
      "metadata": {
        "id": "vmofJ2GROAq2",
        "colab_type": "text"
      },
      "source": [
        "# Keras demo for L715"
      ]
    },
    {
      "cell_type": "markdown",
      "metadata": {
        "id": "OLlH6KPMOKg-",
        "colab_type": "text"
      },
      "source": [
        "## Import the library"
      ]
    },
    {
      "cell_type": "markdown",
      "metadata": {
        "id": "M9_M_8KvDYgK",
        "colab_type": "text"
      },
      "source": [
        "* Import **TensorFlow**\n",
        " * Wait... What is **TensorFlow**?\n",
        "  * TensorFlow is an open-source machine learning library for research and production. \n",
        "  * TensorFlow offers APIs for beginners and experts to develop for desktop, mobile, web, and cloud.\n",
        "  * Useful links:\n",
        "   * https://www.tensorflow.org/\n",
        "   * https://www.tensorflow.org/tutorials/representation/word2vec\n",
        "   \n",
        "\n"
      ]
    },
    {
      "cell_type": "code",
      "metadata": {
        "id": "WWBR_WcUDeUN",
        "colab_type": "code",
        "colab": {}
      },
      "source": [
        "import tensorflow as tf"
      ],
      "execution_count": 0,
      "outputs": []
    },
    {
      "cell_type": "markdown",
      "metadata": {
        "id": "61TSA45ODgmF",
        "colab_type": "text"
      },
      "source": [
        "* Import **Keras**\n",
        " * What? I thought we are talking about TensorFlow?\n",
        " * The high-level Keras API provides building blocks to create and train deep learning models. (Like LEGOs?)\n",
        " * Keras is much easier to start with than plain TensorFlow, but if you want to do something with Keras that doesn't come out of the box, it will be harder to implement that.\n",
        " * TensorFlow, on the other hand, allows you to create any arbitrary computational graph, providing much more flexibility. If you are doing more research work, TensorFlow is the route to go due to this flexibility."
      ]
    },
    {
      "cell_type": "code",
      "metadata": {
        "id": "hRwEN5_ODls1",
        "colab_type": "code",
        "colab": {}
      },
      "source": [
        "from tensorflow import keras"
      ],
      "execution_count": 0,
      "outputs": []
    },
    {
      "cell_type": "markdown",
      "metadata": {
        "id": "1PZfp7cpObT_",
        "colab_type": "text"
      },
      "source": [
        "## Load the dataset"
      ]
    },
    {
      "cell_type": "markdown",
      "metadata": {
        "id": "iCqu1lE7IBSA",
        "colab_type": "text"
      },
      "source": [
        "* Download the IMDB dataset\n",
        " * Let's see how Keras performs on the same dataset compared to scikit-learn. :)\n",
        " "
      ]
    },
    {
      "cell_type": "code",
      "metadata": {
        "id": "GrVPamd6JE6Z",
        "colab_type": "code",
        "colab": {}
      },
      "source": [
        "imdb = keras.datasets.imdb\n",
        "\n",
        "(train_data, train_labels),(test_data, test_labels) = imdb.load_data(num_words=10000)"
      ],
      "execution_count": 0,
      "outputs": []
    },
    {
      "cell_type": "markdown",
      "metadata": {
        "id": "nuuH0soQJPxy",
        "colab_type": "text"
      },
      "source": [
        "* Stop right there!\n",
        " * How do you know the dataset is there?\n",
        "   * Typically these kind of learning libraries come with several datasets for people to get started or play with.\n",
        " * And... how do you know you need to write a code block like that to get the dataset?\n",
        "   * https://keras.io/datasets/#imdb-movie-reviews-sentiment-classification\n",
        " "
      ]
    },
    {
      "cell_type": "markdown",
      "metadata": {
        "id": "JryGGPJLPGzt",
        "colab_type": "text"
      },
      "source": [
        "## Explore the dataset"
      ]
    },
    {
      "cell_type": "markdown",
      "metadata": {
        "id": "s7S-1TNQJ_7I",
        "colab_type": "text"
      },
      "source": [
        "* OK... but how do the data look like?"
      ]
    },
    {
      "cell_type": "code",
      "metadata": {
        "id": "WHI1ehNaKJlt",
        "colab_type": "code",
        "outputId": "939afc60-631b-429e-aad8-5f531e15268d",
        "colab": {
          "base_uri": "https://localhost:8080/",
          "height": 70
        }
      },
      "source": [
        "print(\"Training entries: {}, labels: {}\".format(len(train_data),len(train_labels)))\n",
        "\n",
        "print(train_data[0])"
      ],
      "execution_count": 0,
      "outputs": [
        {
          "output_type": "stream",
          "text": [
            "Training entries: 25000, labels: 25000\n",
            "[1, 14, 22, 16, 43, 530, 973, 1622, 1385, 65, 458, 4468, 66, 3941, 4, 173, 36, 256, 5, 25, 100, 43, 838, 112, 50, 670, 2, 9, 35, 480, 284, 5, 150, 4, 172, 112, 167, 2, 336, 385, 39, 4, 172, 4536, 1111, 17, 546, 38, 13, 447, 4, 192, 50, 16, 6, 147, 2025, 19, 14, 22, 4, 1920, 4613, 469, 4, 22, 71, 87, 12, 16, 43, 530, 38, 76, 15, 13, 1247, 4, 22, 17, 515, 17, 12, 16, 626, 18, 2, 5, 62, 386, 12, 8, 316, 8, 106, 5, 4, 2223, 5244, 16, 480, 66, 3785, 33, 4, 130, 12, 16, 38, 619, 5, 25, 124, 51, 36, 135, 48, 25, 1415, 33, 6, 22, 12, 215, 28, 77, 52, 5, 14, 407, 16, 82, 2, 8, 4, 107, 117, 5952, 15, 256, 4, 2, 7, 3766, 5, 723, 36, 71, 43, 530, 476, 26, 400, 317, 46, 7, 4, 2, 1029, 13, 104, 88, 4, 381, 15, 297, 98, 32, 2071, 56, 26, 141, 6, 194, 7486, 18, 4, 226, 22, 21, 134, 476, 26, 480, 5, 144, 30, 5535, 18, 51, 36, 28, 224, 92, 25, 104, 4, 226, 65, 16, 38, 1334, 88, 12, 16, 283, 5, 16, 4472, 113, 103, 32, 15, 16, 5345, 19, 178, 32]\n"
          ],
          "name": "stdout"
        }
      ]
    },
    {
      "cell_type": "markdown",
      "metadata": {
        "id": "pzoru_1IQ5vV",
        "colab_type": "text"
      },
      "source": [
        "* What are those numbers?\n",
        " * x_train, x_test: list of sequences, which are lists of indices (integers).\n",
        " * So... exactly what are those?\n",
        "  * This is only for curiosity purposes... In fact, you almost always will have to prepare the data yourself.\n",
        "\n"
      ]
    },
    {
      "cell_type": "code",
      "metadata": {
        "id": "2SbAY-QxSKOT",
        "colab_type": "code",
        "outputId": "441a3562-b753-4ff1-9f85-1eebc93d2b47",
        "colab": {
          "base_uri": "https://localhost:8080/",
          "height": 54
        }
      },
      "source": [
        "################################################################################\n",
        "\n",
        "# Convert the integers back to words\n",
        "word_index = imdb.get_word_index()\n",
        "\n",
        "# The first indices are reserved\n",
        "word_index = {k:(v+3) for k,v in word_index.items()}\n",
        "word_index[\"<PAD>\"] = 0\n",
        "word_index[\"<START>\"] = 1\n",
        "word_index[\"<UNK>\"] = 2  # unknown\n",
        "word_index[\"<UNUSED>\"] = 3\n",
        "\n",
        "reverse_word_index = dict([(value, key) for (key, value) in word_index.items()])\n",
        "\n",
        "def decode_review(text):\n",
        "    return ' '.join([reverse_word_index.get(i, '?') for i in text])\n",
        "\n",
        "################################################################################\n",
        "\n",
        "print(decode_review(train_data[0]))"
      ],
      "execution_count": 0,
      "outputs": [
        {
          "output_type": "stream",
          "text": [
            "<START> this film was just brilliant casting location scenery story direction everyone's really suited the part they played and you could just imagine being there robert <UNK> is an amazing actor and now the same being director <UNK> father came from the same scottish island as myself so i loved the fact there was a real connection with this film the witty remarks throughout the film were great it was just brilliant so much that i bought the film as soon as it was released for <UNK> and would recommend it to everyone to watch and the fly fishing was amazing really cried at the end it was so sad and you know what they say if you cry at a film it must have been good and this definitely was also <UNK> to the two little boy's that played the <UNK> of norman and paul they were just brilliant children are often left out of the <UNK> list i think because the stars that play them all grown up are such a big profile for the whole film but these children are amazing and should be praised for what they have done don't you think the whole story was so lovely because it was true and was someone's life after all that was shared with us all\n"
          ],
          "name": "stdout"
        }
      ]
    },
    {
      "cell_type": "markdown",
      "metadata": {
        "id": "M0ExmuWKSW1-",
        "colab_type": "text"
      },
      "source": [
        "* We'll discuss this block of code if we have time. For now, let's move on."
      ]
    },
    {
      "cell_type": "code",
      "metadata": {
        "id": "_ziVFMxCRwDF",
        "colab_type": "code",
        "outputId": "fc40f5c5-019b-4b3c-8f14-d4866d645863",
        "colab": {
          "base_uri": "https://localhost:8080/",
          "height": 34
        }
      },
      "source": [
        "print(len(train_data[0]),len(train_data[1]))"
      ],
      "execution_count": 0,
      "outputs": [
        {
          "output_type": "stream",
          "text": [
            "218 189\n"
          ],
          "name": "stdout"
        }
      ]
    },
    {
      "cell_type": "markdown",
      "metadata": {
        "id": "bCAmqrzwRFeY",
        "colab_type": "text"
      },
      "source": [
        "## Preparing the data"
      ]
    },
    {
      "cell_type": "markdown",
      "metadata": {
        "id": "cwEWVgxTRxhh",
        "colab_type": "text"
      },
      "source": [
        "* They are of different lengths. What do we do?"
      ]
    },
    {
      "cell_type": "code",
      "metadata": {
        "id": "FU7dcE7TR9QO",
        "colab_type": "code",
        "colab": {}
      },
      "source": [
        "train_data = keras.preprocessing.sequence.pad_sequences(train_data,\n",
        "                                                        value=word_index[\"<PAD>\"],\n",
        "                                                        padding='post',\n",
        "                                                        maxlen=256)\n",
        "\n",
        "test_data = keras.preprocessing.sequence.pad_sequences(test_data,\n",
        "                                                       value=word_index[\"<PAD>\"],\n",
        "                                                       padding='post',\n",
        "                                                       maxlen=256)"
      ],
      "execution_count": 0,
      "outputs": []
    },
    {
      "cell_type": "markdown",
      "metadata": {
        "id": "mEy9UhoJS0Xi",
        "colab_type": "text"
      },
      "source": [
        "* What's that?\n",
        "  * **Padding**. :)\n",
        "* How do you know this padding technique?\n",
        "  * Read papers and play with code other people wrote.\n",
        "* How do you know the **arguments**?\n",
        "  * https://keras.io/preprocessing/sequence/\n",
        "* How do you know the **values** for the arguments?\n",
        " * That's pretty empirical... You'll have to try (or see how others do it).\n",
        "* So... how do they look now?"
      ]
    },
    {
      "cell_type": "code",
      "metadata": {
        "id": "tx4hr-vvUIES",
        "colab_type": "code",
        "outputId": "9c5bdd3b-cdf3-4880-c7ea-0251c38ccb95",
        "colab": {
          "base_uri": "https://localhost:8080/",
          "height": 406
        }
      },
      "source": [
        "print(len(train_data[0]))\n",
        "\n",
        "print(len(train_data[1]))\n",
        "\n",
        "print(train_data[0])\n",
        "\n",
        "print(decode_review(train_data[0]))"
      ],
      "execution_count": 0,
      "outputs": [
        {
          "output_type": "stream",
          "text": [
            "256\n",
            "256\n",
            "[   1   14   22   16   43  530  973 1622 1385   65  458 4468   66 3941\n",
            "    4  173   36  256    5   25  100   43  838  112   50  670    2    9\n",
            "   35  480  284    5  150    4  172  112  167    2  336  385   39    4\n",
            "  172 4536 1111   17  546   38   13  447    4  192   50   16    6  147\n",
            " 2025   19   14   22    4 1920 4613  469    4   22   71   87   12   16\n",
            "   43  530   38   76   15   13 1247    4   22   17  515   17   12   16\n",
            "  626   18    2    5   62  386   12    8  316    8  106    5    4 2223\n",
            " 5244   16  480   66 3785   33    4  130   12   16   38  619    5   25\n",
            "  124   51   36  135   48   25 1415   33    6   22   12  215   28   77\n",
            "   52    5   14  407   16   82    2    8    4  107  117 5952   15  256\n",
            "    4    2    7 3766    5  723   36   71   43  530  476   26  400  317\n",
            "   46    7    4    2 1029   13  104   88    4  381   15  297   98   32\n",
            " 2071   56   26  141    6  194 7486   18    4  226   22   21  134  476\n",
            "   26  480    5  144   30 5535   18   51   36   28  224   92   25  104\n",
            "    4  226   65   16   38 1334   88   12   16  283    5   16 4472  113\n",
            "  103   32   15   16 5345   19  178   32    0    0    0    0    0    0\n",
            "    0    0    0    0    0    0    0    0    0    0    0    0    0    0\n",
            "    0    0    0    0    0    0    0    0    0    0    0    0    0    0\n",
            "    0    0    0    0]\n",
            "<START> this film was just brilliant casting location scenery story direction everyone's really suited the part they played and you could just imagine being there robert <UNK> is an amazing actor and now the same being director <UNK> father came from the same scottish island as myself so i loved the fact there was a real connection with this film the witty remarks throughout the film were great it was just brilliant so much that i bought the film as soon as it was released for <UNK> and would recommend it to everyone to watch and the fly fishing was amazing really cried at the end it was so sad and you know what they say if you cry at a film it must have been good and this definitely was also <UNK> to the two little boy's that played the <UNK> of norman and paul they were just brilliant children are often left out of the <UNK> list i think because the stars that play them all grown up are such a big profile for the whole film but these children are amazing and should be praised for what they have done don't you think the whole story was so lovely because it was true and was someone's life after all that was shared with us all <PAD> <PAD> <PAD> <PAD> <PAD> <PAD> <PAD> <PAD> <PAD> <PAD> <PAD> <PAD> <PAD> <PAD> <PAD> <PAD> <PAD> <PAD> <PAD> <PAD> <PAD> <PAD> <PAD> <PAD> <PAD> <PAD> <PAD> <PAD> <PAD> <PAD> <PAD> <PAD> <PAD> <PAD> <PAD> <PAD> <PAD> <PAD>\n"
          ],
          "name": "stdout"
        }
      ]
    },
    {
      "cell_type": "markdown",
      "metadata": {
        "id": "3qxSXjAjRv8g",
        "colab_type": "text"
      },
      "source": [
        "## Build the model"
      ]
    },
    {
      "cell_type": "markdown",
      "metadata": {
        "id": "4Ig2utzjU8gd",
        "colab_type": "text"
      },
      "source": [
        "* Let's build a model! (Yes, finally... Data cleaning is tedious work...)\n",
        "* OK... Where do we start?\n",
        "  * Honestly? Let's steal somebody else's model and try first.\n",
        " \n",
        "* Let's start with something really simple -- a sequential model.\n",
        "  * All layers are just stacked. Nothing fancy.\n",
        "  * https://keras.io/getting-started/sequential-model-guide/"
      ]
    },
    {
      "cell_type": "code",
      "metadata": {
        "id": "XZMPgDx4WPwb",
        "colab_type": "code",
        "colab": {}
      },
      "source": [
        "model = keras.Sequential()"
      ],
      "execution_count": 0,
      "outputs": []
    },
    {
      "cell_type": "markdown",
      "metadata": {
        "id": "fsDWZdE1W4Im",
        "colab_type": "text"
      },
      "source": [
        "* The first layer is an Embedding layer. \n",
        " * This layer takes the integer-encoded vocabulary and looks up the embedding vector for each word-index. \n",
        "  * These vectors are learned as the model trains. \n",
        "  * The vectors add a dimension to the output array. \n",
        "  * The resulting dimensions are: (batch, sequence, embedding).\n",
        "  * https://keras.io/layers/embeddings/"
      ]
    },
    {
      "cell_type": "code",
      "metadata": {
        "id": "XLvWPye3XKLP",
        "colab_type": "code",
        "colab": {}
      },
      "source": [
        "vocab_size = 10000\n",
        "\n",
        "model.add(keras.layers.Embedding(vocab_size, 16))"
      ],
      "execution_count": 0,
      "outputs": []
    },
    {
      "cell_type": "markdown",
      "metadata": {
        "id": "7FYpIKO0YGOr",
        "colab_type": "text"
      },
      "source": [
        "* A GlobalAveragePooling1D layer returns a fixed-length output vector for each example by averaging over the sequence dimension. This allows the model to handle input of variable length, in the simplest way possible.\n",
        "  * https://keras.io/layers/pooling/"
      ]
    },
    {
      "cell_type": "code",
      "metadata": {
        "id": "4oNjRz9dYO6n",
        "colab_type": "code",
        "colab": {}
      },
      "source": [
        "model.add(keras.layers.GlobalAveragePooling1D())"
      ],
      "execution_count": 0,
      "outputs": []
    },
    {
      "cell_type": "markdown",
      "metadata": {
        "id": "gw_bmXzZYR_V",
        "colab_type": "text"
      },
      "source": [
        "* This fixed-length output vector is piped through a fully-connected layer with 16 hidden units.\n",
        "  * https://keras.io/layers/core/"
      ]
    },
    {
      "cell_type": "code",
      "metadata": {
        "id": "tqjTsE4BYXGX",
        "colab_type": "code",
        "colab": {}
      },
      "source": [
        "model.add(keras.layers.Dense(16, activation=tf.nn.relu))"
      ],
      "execution_count": 0,
      "outputs": []
    },
    {
      "cell_type": "markdown",
      "metadata": {
        "id": "Dpj6Cy7YYa6M",
        "colab_type": "text"
      },
      "source": [
        "* The last layer is densely connected with a single output node. \n",
        "* Using the sigmoid activation function, this value is a float between 0 and 1, representing a probability, or confidence level.\n",
        "  * Why? --> [Common activation functions](https://qph.fs.quoracdn.net/main-qimg-d131b1b1ffb1ae9d842e135f05635f1c)"
      ]
    },
    {
      "cell_type": "code",
      "metadata": {
        "id": "bz9fpI8CY0c9",
        "colab_type": "code",
        "colab": {}
      },
      "source": [
        "model.add(keras.layers.Dense(1, activation=tf.nn.sigmoid))"
      ],
      "execution_count": 0,
      "outputs": []
    },
    {
      "cell_type": "markdown",
      "metadata": {
        "id": "7mDcGhsOU-np",
        "colab_type": "text"
      },
      "source": [
        "## Review the model"
      ]
    },
    {
      "cell_type": "markdown",
      "metadata": {
        "id": "K1bUivSeY4U7",
        "colab_type": "text"
      },
      "source": [
        "* Let's see how our model looks."
      ]
    },
    {
      "cell_type": "code",
      "metadata": {
        "id": "RT9EPP_0ZA-I",
        "colab_type": "code",
        "outputId": "31b0d5bf-ba72-4c96-a887-46672cbae3c0",
        "colab": {
          "base_uri": "https://localhost:8080/",
          "height": 269
        }
      },
      "source": [
        "model.summary()"
      ],
      "execution_count": 0,
      "outputs": [
        {
          "output_type": "stream",
          "text": [
            "_________________________________________________________________\n",
            "Layer (type)                 Output Shape              Param #   \n",
            "=================================================================\n",
            "embedding_3 (Embedding)      (None, None, 16)          160000    \n",
            "_________________________________________________________________\n",
            "global_average_pooling1d_3 ( (None, 16)                0         \n",
            "_________________________________________________________________\n",
            "dense_6 (Dense)              (None, 16)                272       \n",
            "_________________________________________________________________\n",
            "dense_7 (Dense)              (None, 1)                 17        \n",
            "=================================================================\n",
            "Total params: 160,289\n",
            "Trainable params: 160,289\n",
            "Non-trainable params: 0\n",
            "_________________________________________________________________\n"
          ],
          "name": "stdout"
        }
      ]
    },
    {
      "cell_type": "markdown",
      "metadata": {
        "id": "Mp3h_IUuVTtH",
        "colab_type": "text"
      },
      "source": [
        "## Optimize the model"
      ]
    },
    {
      "cell_type": "markdown",
      "metadata": {
        "id": "KbcX1shEZEKq",
        "colab_type": "text"
      },
      "source": [
        "* So... We have a model now. \n",
        " * How do we find out the best set of parameters?\n",
        "    * Optimize using a loss function.\n",
        "      * Optimizers: https://keras.io/optimizers/\n",
        "        * [Haddling the saddle point](https://i.stack.imgur.com/gjDzm.gif)\n",
        "      * Loss function:\n",
        "        * Losses: https://keras.io/losses/"
      ]
    },
    {
      "cell_type": "code",
      "metadata": {
        "id": "V0oxw2kPcxWe",
        "colab_type": "code",
        "colab": {}
      },
      "source": [
        "model.compile(optimizer='adam',\n",
        "              loss='binary_crossentropy',\n",
        "              metrics=['accuracy'])"
      ],
      "execution_count": 0,
      "outputs": []
    },
    {
      "cell_type": "markdown",
      "metadata": {
        "id": "-5HybJSvXA13",
        "colab_type": "text"
      },
      "source": [
        "## Create a validation set"
      ]
    },
    {
      "cell_type": "markdown",
      "metadata": {
        "id": "6Pdpwjepc26s",
        "colab_type": "text"
      },
      "source": [
        "* We need a validation set to see how well we do."
      ]
    },
    {
      "cell_type": "code",
      "metadata": {
        "id": "63RrtbY1c_33",
        "colab_type": "code",
        "colab": {}
      },
      "source": [
        "x_val = train_data[:10000]\n",
        "\n",
        "partial_x_train = train_data[10000:]\n",
        "\n",
        "y_val = train_labels[:10000]\n",
        "\n",
        "partial_y_train = train_labels[10000:]"
      ],
      "execution_count": 0,
      "outputs": []
    },
    {
      "cell_type": "markdown",
      "metadata": {
        "id": "6uOT4mPydDwN",
        "colab_type": "text"
      },
      "source": [
        "## Let's train the model!"
      ]
    },
    {
      "cell_type": "code",
      "metadata": {
        "id": "jr5b1TfedHnd",
        "colab_type": "code",
        "outputId": "7166bfa9-827c-4b73-de40-8534ae41c8da",
        "colab": {
          "base_uri": "https://localhost:8080/",
          "height": 1398
        }
      },
      "source": [
        "history = model.fit(partial_x_train,\n",
        "                    partial_y_train,\n",
        "                    epochs=40,\n",
        "                    batch_size=512,\n",
        "                    validation_data=(x_val, y_val),\n",
        "                    verbose=1)"
      ],
      "execution_count": 0,
      "outputs": [
        {
          "output_type": "stream",
          "text": [
            "Train on 15000 samples, validate on 10000 samples\n",
            "Epoch 1/40\n",
            "15000/15000 [==============================] - 1s 83us/sample - loss: 0.6914 - acc: 0.5734 - val_loss: 0.6889 - val_acc: 0.6213\n",
            "Epoch 2/40\n",
            "15000/15000 [==============================] - 1s 54us/sample - loss: 0.6842 - acc: 0.7113 - val_loss: 0.6789 - val_acc: 0.7402\n",
            "Epoch 3/40\n",
            "15000/15000 [==============================] - 1s 50us/sample - loss: 0.6680 - acc: 0.7591 - val_loss: 0.6584 - val_acc: 0.7545\n",
            "Epoch 4/40\n",
            "15000/15000 [==============================] - 1s 51us/sample - loss: 0.6405 - acc: 0.7677 - val_loss: 0.6278 - val_acc: 0.7580\n",
            "Epoch 5/40\n",
            "15000/15000 [==============================] - 1s 51us/sample - loss: 0.6023 - acc: 0.7935 - val_loss: 0.5891 - val_acc: 0.7861\n",
            "Epoch 6/40\n",
            "15000/15000 [==============================] - 1s 51us/sample - loss: 0.5567 - acc: 0.8161 - val_loss: 0.5465 - val_acc: 0.8086\n",
            "Epoch 7/40\n",
            "15000/15000 [==============================] - 1s 51us/sample - loss: 0.5082 - acc: 0.8337 - val_loss: 0.5020 - val_acc: 0.8234\n",
            "Epoch 8/40\n",
            "15000/15000 [==============================] - 1s 51us/sample - loss: 0.4614 - acc: 0.8515 - val_loss: 0.4624 - val_acc: 0.8380\n",
            "Epoch 9/40\n",
            "15000/15000 [==============================] - 1s 50us/sample - loss: 0.4192 - acc: 0.8659 - val_loss: 0.4277 - val_acc: 0.8479\n",
            "Epoch 10/40\n",
            "15000/15000 [==============================] - 1s 51us/sample - loss: 0.3826 - acc: 0.8773 - val_loss: 0.3996 - val_acc: 0.8537\n",
            "Epoch 11/40\n",
            "15000/15000 [==============================] - 1s 51us/sample - loss: 0.3518 - acc: 0.8850 - val_loss: 0.3766 - val_acc: 0.8615\n",
            "Epoch 12/40\n",
            "15000/15000 [==============================] - 1s 51us/sample - loss: 0.3259 - acc: 0.8921 - val_loss: 0.3587 - val_acc: 0.8642\n",
            "Epoch 13/40\n",
            "15000/15000 [==============================] - 1s 51us/sample - loss: 0.3045 - acc: 0.8981 - val_loss: 0.3431 - val_acc: 0.8701\n",
            "Epoch 14/40\n",
            "15000/15000 [==============================] - 1s 51us/sample - loss: 0.2852 - acc: 0.9035 - val_loss: 0.3315 - val_acc: 0.8744\n",
            "Epoch 15/40\n",
            "15000/15000 [==============================] - 1s 50us/sample - loss: 0.2689 - acc: 0.9079 - val_loss: 0.3221 - val_acc: 0.8749\n",
            "Epoch 16/40\n",
            "15000/15000 [==============================] - 1s 51us/sample - loss: 0.2543 - acc: 0.9130 - val_loss: 0.3142 - val_acc: 0.8760\n",
            "Epoch 17/40\n",
            "15000/15000 [==============================] - 1s 50us/sample - loss: 0.2407 - acc: 0.9169 - val_loss: 0.3074 - val_acc: 0.8790\n",
            "Epoch 18/40\n",
            "15000/15000 [==============================] - 1s 49us/sample - loss: 0.2286 - acc: 0.9217 - val_loss: 0.3021 - val_acc: 0.8820\n",
            "Epoch 19/40\n",
            "15000/15000 [==============================] - 1s 51us/sample - loss: 0.2177 - acc: 0.9246 - val_loss: 0.2971 - val_acc: 0.8834\n",
            "Epoch 20/40\n",
            "15000/15000 [==============================] - 1s 51us/sample - loss: 0.2078 - acc: 0.9283 - val_loss: 0.2938 - val_acc: 0.8837\n",
            "Epoch 21/40\n",
            "15000/15000 [==============================] - 1s 50us/sample - loss: 0.1977 - acc: 0.9337 - val_loss: 0.2909 - val_acc: 0.8844\n",
            "Epoch 22/40\n",
            "15000/15000 [==============================] - 1s 50us/sample - loss: 0.1892 - acc: 0.9373 - val_loss: 0.2889 - val_acc: 0.8846\n",
            "Epoch 23/40\n",
            "15000/15000 [==============================] - 1s 51us/sample - loss: 0.1807 - acc: 0.9413 - val_loss: 0.2880 - val_acc: 0.8836\n",
            "Epoch 24/40\n",
            "15000/15000 [==============================] - 1s 51us/sample - loss: 0.1734 - acc: 0.9449 - val_loss: 0.2863 - val_acc: 0.8852\n",
            "Epoch 25/40\n",
            "15000/15000 [==============================] - 1s 50us/sample - loss: 0.1658 - acc: 0.9477 - val_loss: 0.2853 - val_acc: 0.8846\n",
            "Epoch 26/40\n",
            "15000/15000 [==============================] - 1s 50us/sample - loss: 0.1591 - acc: 0.9505 - val_loss: 0.2860 - val_acc: 0.8837\n",
            "Epoch 27/40\n",
            "15000/15000 [==============================] - 1s 50us/sample - loss: 0.1527 - acc: 0.9532 - val_loss: 0.2855 - val_acc: 0.8844\n",
            "Epoch 28/40\n",
            "15000/15000 [==============================] - 1s 50us/sample - loss: 0.1466 - acc: 0.9552 - val_loss: 0.2860 - val_acc: 0.8858\n",
            "Epoch 29/40\n",
            "15000/15000 [==============================] - 1s 50us/sample - loss: 0.1413 - acc: 0.9587 - val_loss: 0.2880 - val_acc: 0.8834\n",
            "Epoch 30/40\n",
            "15000/15000 [==============================] - 1s 51us/sample - loss: 0.1356 - acc: 0.9600 - val_loss: 0.2874 - val_acc: 0.8850\n",
            "Epoch 31/40\n",
            "15000/15000 [==============================] - 1s 50us/sample - loss: 0.1300 - acc: 0.9623 - val_loss: 0.2887 - val_acc: 0.8859\n",
            "Epoch 32/40\n",
            "15000/15000 [==============================] - 1s 51us/sample - loss: 0.1249 - acc: 0.9652 - val_loss: 0.2903 - val_acc: 0.8856\n",
            "Epoch 33/40\n",
            "15000/15000 [==============================] - 1s 51us/sample - loss: 0.1200 - acc: 0.9669 - val_loss: 0.2927 - val_acc: 0.8844\n",
            "Epoch 34/40\n",
            "15000/15000 [==============================] - 1s 50us/sample - loss: 0.1157 - acc: 0.9676 - val_loss: 0.2946 - val_acc: 0.8845\n",
            "Epoch 35/40\n",
            "15000/15000 [==============================] - 1s 51us/sample - loss: 0.1115 - acc: 0.9687 - val_loss: 0.2978 - val_acc: 0.8848\n",
            "Epoch 36/40\n",
            "15000/15000 [==============================] - 1s 51us/sample - loss: 0.1072 - acc: 0.9711 - val_loss: 0.2994 - val_acc: 0.8848\n",
            "Epoch 37/40\n",
            "15000/15000 [==============================] - 1s 49us/sample - loss: 0.1030 - acc: 0.9723 - val_loss: 0.3019 - val_acc: 0.8835\n",
            "Epoch 38/40\n",
            "15000/15000 [==============================] - 1s 51us/sample - loss: 0.0992 - acc: 0.9738 - val_loss: 0.3054 - val_acc: 0.8821\n",
            "Epoch 39/40\n",
            "15000/15000 [==============================] - 1s 51us/sample - loss: 0.0960 - acc: 0.9745 - val_loss: 0.3092 - val_acc: 0.8811\n",
            "Epoch 40/40\n",
            "15000/15000 [==============================] - 1s 50us/sample - loss: 0.0920 - acc: 0.9765 - val_loss: 0.3113 - val_acc: 0.8821\n"
          ],
          "name": "stdout"
        }
      ]
    },
    {
      "cell_type": "markdown",
      "metadata": {
        "id": "auhYcwejaI5D",
        "colab_type": "text"
      },
      "source": [
        "## Evaluate the model"
      ]
    },
    {
      "cell_type": "markdown",
      "metadata": {
        "id": "7EhMPpgtdLxE",
        "colab_type": "text"
      },
      "source": [
        "* So... Exactly how well did we do?"
      ]
    },
    {
      "cell_type": "code",
      "metadata": {
        "id": "Zxp9E3RBdWgy",
        "colab_type": "code",
        "outputId": "9edbb253-9938-4a88-e878-73107440e60f",
        "colab": {
          "base_uri": "https://localhost:8080/",
          "height": 70
        }
      },
      "source": [
        "results = model.evaluate(test_data, test_labels)\n",
        "print(results)"
      ],
      "execution_count": 0,
      "outputs": [
        {
          "output_type": "stream",
          "text": [
            "25000/25000 [==============================] - 1s 45us/sample - loss: 0.3326 - acc: 0.8713\n",
            "[0.33261517679691316, 0.87132]\n"
          ],
          "name": "stdout"
        }
      ]
    },
    {
      "cell_type": "markdown",
      "metadata": {
        "id": "JcnmdKuUaNTf",
        "colab_type": "text"
      },
      "source": [
        "## How do you know...?"
      ]
    },
    {
      "cell_type": "markdown",
      "metadata": {
        "id": "M-lZFpRhasb8",
        "colab_type": "text"
      },
      "source": [
        "* What is the best architecture and hyperparameters?\n",
        "  * That's like **the ultimate** research question. \n",
        "  * Something a bit more intelligient:\n",
        "    * [**NOT** Everything you need to know about AutoML and Neural Architecture Search](https://towardsdatascience.com/everything-you-need-to-know-about-automl-and-neural-architecture-search-8db1863682bf)\n",
        "    * [AdaNet](https://github.com/tensorflow/adanet)\n",
        "    * [AutoKeras](https://autokeras.com/)"
      ]
    },
    {
      "cell_type": "markdown",
      "metadata": {
        "id": "lFEo-jbuzriu",
        "colab_type": "text"
      },
      "source": [
        "## Visualize it!"
      ]
    },
    {
      "cell_type": "code",
      "metadata": {
        "id": "-9VSAGRtzvP7",
        "colab_type": "code",
        "outputId": "6c5df3eb-a84c-4a25-b6bb-b93ac96bbb93",
        "colab": {
          "base_uri": "https://localhost:8080/",
          "height": 735
        }
      },
      "source": [
        "history_dict = history.history\n",
        "history_dict.keys()\n",
        "\n",
        "import matplotlib.pyplot as plt\n",
        "\n",
        "acc = history_dict['acc']\n",
        "val_acc = history_dict['val_acc']\n",
        "loss = history_dict['loss']\n",
        "val_loss = history_dict['val_loss']\n",
        "\n",
        "epochs = range(1, len(acc) + 1)\n",
        "\n",
        "# \"bo\" is for \"blue dot\"\n",
        "plt.plot(epochs, loss, 'bo', label='Training loss')\n",
        "# b is for \"solid blue line\"\n",
        "plt.plot(epochs, val_loss, 'b', label='Validation loss')\n",
        "plt.title('Training and validation loss')\n",
        "plt.xlabel('Epochs')\n",
        "plt.ylabel('Loss')\n",
        "plt.legend()\n",
        "\n",
        "plt.show()\n",
        "\n",
        "plt.clf()   # clear figure\n",
        "\n",
        "plt.plot(epochs, acc, 'bo', label='Training acc')\n",
        "plt.plot(epochs, val_acc, 'b', label='Validation acc')\n",
        "plt.title('Training and validation accuracy')\n",
        "plt.xlabel('Epochs')\n",
        "plt.ylabel('Accuracy')\n",
        "plt.legend()\n",
        "\n",
        "plt.show()"
      ],
      "execution_count": 0,
      "outputs": [
        {
          "output_type": "display_data",
          "data": {
            "image/png": "[encoded data removed]",
            "text/plain": [
              "<Figure size 576x396 with 1 Axes>"
            ]
          },
          "metadata": {
            "tags": []
          }
        },
        {
          "output_type": "display_data",
          "data": {
            "image/png": "[encoded data removed]",
            "text/plain": [
              "<Figure size 576x396 with 1 Axes>"
            ]
          },
          "metadata": {
            "tags": []
          }
        }
      ]
    }
  ]
}